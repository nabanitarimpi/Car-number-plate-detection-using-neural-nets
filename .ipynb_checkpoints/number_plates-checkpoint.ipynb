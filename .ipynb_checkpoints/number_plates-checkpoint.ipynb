{
 "cells": [
  {
   "cell_type": "code",
   "execution_count": 1,
   "metadata": {},
   "outputs": [],
   "source": [
    "import pandas as pd\n",
    "import numpy as np\n",
    "import os\n",
    "import cv2\n",
    "import requests"
   ]
  },
  {
   "cell_type": "code",
   "execution_count": 2,
   "metadata": {},
   "outputs": [],
   "source": [
    "df = pd.read_json(\"Indian_Number_plates.json\", lines=True)"
   ]
  },
  {
   "cell_type": "code",
   "execution_count": 3,
   "metadata": {},
   "outputs": [
    {
     "data": {
      "text/html": [
       "<div>\n",
       "<style scoped>\n",
       "    .dataframe tbody tr th:only-of-type {\n",
       "        vertical-align: middle;\n",
       "    }\n",
       "\n",
       "    .dataframe tbody tr th {\n",
       "        vertical-align: top;\n",
       "    }\n",
       "\n",
       "    .dataframe thead th {\n",
       "        text-align: right;\n",
       "    }\n",
       "</style>\n",
       "<table border=\"1\" class=\"dataframe\">\n",
       "  <thead>\n",
       "    <tr style=\"text-align: right;\">\n",
       "      <th></th>\n",
       "      <th>content</th>\n",
       "      <th>annotation</th>\n",
       "      <th>extras</th>\n",
       "    </tr>\n",
       "  </thead>\n",
       "  <tbody>\n",
       "    <tr>\n",
       "      <th>0</th>\n",
       "      <td>http://com.dataturks.a96-i23.open.s3.amazonaws...</td>\n",
       "      <td>[{'label': ['number_plate'], 'notes': '', 'poi...</td>\n",
       "      <td>NaN</td>\n",
       "    </tr>\n",
       "    <tr>\n",
       "      <th>1</th>\n",
       "      <td>http://com.dataturks.a96-i23.open.s3.amazonaws...</td>\n",
       "      <td>[{'label': ['number_plate'], 'notes': '', 'poi...</td>\n",
       "      <td>NaN</td>\n",
       "    </tr>\n",
       "    <tr>\n",
       "      <th>2</th>\n",
       "      <td>http://com.dataturks.a96-i23.open.s3.amazonaws...</td>\n",
       "      <td>[{'label': ['number_plate'], 'notes': '', 'poi...</td>\n",
       "      <td>NaN</td>\n",
       "    </tr>\n",
       "    <tr>\n",
       "      <th>3</th>\n",
       "      <td>http://com.dataturks.a96-i23.open.s3.amazonaws...</td>\n",
       "      <td>[{'label': ['number_plate'], 'notes': '', 'poi...</td>\n",
       "      <td>NaN</td>\n",
       "    </tr>\n",
       "    <tr>\n",
       "      <th>4</th>\n",
       "      <td>http://com.dataturks.a96-i23.open.s3.amazonaws...</td>\n",
       "      <td>[{'label': ['number_plate'], 'notes': '', 'poi...</td>\n",
       "      <td>NaN</td>\n",
       "    </tr>\n",
       "  </tbody>\n",
       "</table>\n",
       "</div>"
      ],
      "text/plain": [
       "                                             content  \\\n",
       "0  http://com.dataturks.a96-i23.open.s3.amazonaws...   \n",
       "1  http://com.dataturks.a96-i23.open.s3.amazonaws...   \n",
       "2  http://com.dataturks.a96-i23.open.s3.amazonaws...   \n",
       "3  http://com.dataturks.a96-i23.open.s3.amazonaws...   \n",
       "4  http://com.dataturks.a96-i23.open.s3.amazonaws...   \n",
       "\n",
       "                                          annotation  extras  \n",
       "0  [{'label': ['number_plate'], 'notes': '', 'poi...     NaN  \n",
       "1  [{'label': ['number_plate'], 'notes': '', 'poi...     NaN  \n",
       "2  [{'label': ['number_plate'], 'notes': '', 'poi...     NaN  \n",
       "3  [{'label': ['number_plate'], 'notes': '', 'poi...     NaN  \n",
       "4  [{'label': ['number_plate'], 'notes': '', 'poi...     NaN  "
      ]
     },
     "execution_count": 3,
     "metadata": {},
     "output_type": "execute_result"
    }
   ],
   "source": [
    "df.head()"
   ]
  },
  {
   "cell_type": "code",
   "execution_count": 4,
   "metadata": {},
   "outputs": [
    {
     "data": {
      "text/plain": [
       "806"
      ]
     },
     "execution_count": 4,
     "metadata": {},
     "output_type": "execute_result"
    }
   ],
   "source": [
    "df['annotation'][0][0]['imageWidth']"
   ]
  },
  {
   "cell_type": "code",
   "execution_count": 5,
   "metadata": {},
   "outputs": [
    {
     "data": {
      "text/plain": [
       "array([nan])"
      ]
     },
     "execution_count": 5,
     "metadata": {},
     "output_type": "execute_result"
    }
   ],
   "source": [
    "df['extras'].unique()"
   ]
  },
  {
   "cell_type": "code",
   "execution_count": 6,
   "metadata": {},
   "outputs": [],
   "source": [
    "path = '/home/nabanita/anaconda3/envs/my_env_py3.7.4/submission_project/number_plate_detection_project'\n",
    "os.mkdir(path+'/image')"
   ]
  },
  {
   "cell_type": "code",
   "execution_count": 7,
   "metadata": {},
   "outputs": [],
   "source": [
    "top_x, top_y, bottom_x, bottom_y = [],[],[],[]\n",
    "source_img, img_width, img_height = [],[],[]\n",
    "\n",
    "for i, row in df.iterrows():\n",
    "    \n",
    "    img = requests.get(df['content'][i])\n",
    "    with open(\"image/car_image_{}\".format(i), 'wb') as img_file:\n",
    "        img_file.write(img.content)\n",
    "    \n",
    "    source_img.append(\"car_image_{}\".format(i))\n",
    "    top_x.append(row['annotation'][0]['points'][0]['x'])\n",
    "    top_y.append(row['annotation'][0]['points'][0]['y'])\n",
    "    bottom_x.append(row['annotation'][0]['points'][1]['x'])\n",
    "    bottom_y.append(row['annotation'][0]['points'][1]['y'])\n",
    "    img_width.append(row['annotation'][0]['imageWidth'])\n",
    "    img_height.append(row['annotation'][0]['imageHeight'])"
   ]
  },
  {
   "cell_type": "code",
   "execution_count": 9,
   "metadata": {},
   "outputs": [],
   "source": [
    "#source_img"
   ]
  },
  {
   "cell_type": "code",
   "execution_count": 10,
   "metadata": {},
   "outputs": [],
   "source": [
    "cols_list = [source_img, top_x, top_y, bottom_x, bottom_y, img_width, img_height]"
   ]
  },
  {
   "cell_type": "code",
   "execution_count": 14,
   "metadata": {},
   "outputs": [
    {
     "data": {
      "text/html": [
       "<div>\n",
       "<style scoped>\n",
       "    .dataframe tbody tr th:only-of-type {\n",
       "        vertical-align: middle;\n",
       "    }\n",
       "\n",
       "    .dataframe tbody tr th {\n",
       "        vertical-align: top;\n",
       "    }\n",
       "\n",
       "    .dataframe thead th {\n",
       "        text-align: right;\n",
       "    }\n",
       "</style>\n",
       "<table border=\"1\" class=\"dataframe\">\n",
       "  <thead>\n",
       "    <tr style=\"text-align: right;\">\n",
       "      <th></th>\n",
       "      <th>0</th>\n",
       "      <th>1</th>\n",
       "      <th>2</th>\n",
       "      <th>3</th>\n",
       "      <th>4</th>\n",
       "      <th>5</th>\n",
       "      <th>6</th>\n",
       "    </tr>\n",
       "  </thead>\n",
       "  <tbody>\n",
       "    <tr>\n",
       "      <th>0</th>\n",
       "      <td>car_image_0</td>\n",
       "      <td>0.722084</td>\n",
       "      <td>0.587983</td>\n",
       "      <td>0.868486</td>\n",
       "      <td>0.688841</td>\n",
       "      <td>806</td>\n",
       "      <td>466</td>\n",
       "    </tr>\n",
       "    <tr>\n",
       "      <th>1</th>\n",
       "      <td>car_image_1</td>\n",
       "      <td>0.161943</td>\n",
       "      <td>0.85078</td>\n",
       "      <td>0.582996</td>\n",
       "      <td>1</td>\n",
       "      <td>494</td>\n",
       "      <td>449</td>\n",
       "    </tr>\n",
       "    <tr>\n",
       "      <th>2</th>\n",
       "      <td>car_image_2</td>\n",
       "      <td>0.082</td>\n",
       "      <td>0.697452</td>\n",
       "      <td>0.23</td>\n",
       "      <td>0.828025</td>\n",
       "      <td>500</td>\n",
       "      <td>314</td>\n",
       "    </tr>\n",
       "    <tr>\n",
       "      <th>3</th>\n",
       "      <td>car_image_3</td>\n",
       "      <td>0.434</td>\n",
       "      <td>0.667377</td>\n",
       "      <td>0.718</td>\n",
       "      <td>0.765458</td>\n",
       "      <td>500</td>\n",
       "      <td>469</td>\n",
       "    </tr>\n",
       "    <tr>\n",
       "      <th>4</th>\n",
       "      <td>car_image_4</td>\n",
       "      <td>0.208791</td>\n",
       "      <td>0.390764</td>\n",
       "      <td>0.865135</td>\n",
       "      <td>0.984014</td>\n",
       "      <td>1001</td>\n",
       "      <td>563</td>\n",
       "    </tr>\n",
       "  </tbody>\n",
       "</table>\n",
       "</div>"
      ],
      "text/plain": [
       "             0         1         2         3         4     5    6\n",
       "0  car_image_0  0.722084  0.587983  0.868486  0.688841   806  466\n",
       "1  car_image_1  0.161943   0.85078  0.582996         1   494  449\n",
       "2  car_image_2     0.082  0.697452      0.23  0.828025   500  314\n",
       "3  car_image_3     0.434  0.667377     0.718  0.765458   500  469\n",
       "4  car_image_4  0.208791  0.390764  0.865135  0.984014  1001  563"
      ]
     },
     "execution_count": 14,
     "metadata": {},
     "output_type": "execute_result"
    }
   ],
   "source": [
    "final_df = pd.DataFrame(cols_list).transpose()\n",
    "final_df.head()"
   ]
  },
  {
   "cell_type": "code",
   "execution_count": 16,
   "metadata": {},
   "outputs": [
    {
     "data": {
      "text/html": [
       "<div>\n",
       "<style scoped>\n",
       "    .dataframe tbody tr th:only-of-type {\n",
       "        vertical-align: middle;\n",
       "    }\n",
       "\n",
       "    .dataframe tbody tr th {\n",
       "        vertical-align: top;\n",
       "    }\n",
       "\n",
       "    .dataframe thead th {\n",
       "        text-align: right;\n",
       "    }\n",
       "</style>\n",
       "<table border=\"1\" class=\"dataframe\">\n",
       "  <thead>\n",
       "    <tr style=\"text-align: right;\">\n",
       "      <th></th>\n",
       "      <th>source_img</th>\n",
       "      <th>top_x</th>\n",
       "      <th>top_y</th>\n",
       "      <th>bottom_x</th>\n",
       "      <th>bottom_y</th>\n",
       "      <th>img_width</th>\n",
       "      <th>img_height</th>\n",
       "    </tr>\n",
       "  </thead>\n",
       "  <tbody>\n",
       "    <tr>\n",
       "      <th>0</th>\n",
       "      <td>car_image_0</td>\n",
       "      <td>0.722084</td>\n",
       "      <td>0.587983</td>\n",
       "      <td>0.868486</td>\n",
       "      <td>0.688841</td>\n",
       "      <td>806</td>\n",
       "      <td>466</td>\n",
       "    </tr>\n",
       "    <tr>\n",
       "      <th>1</th>\n",
       "      <td>car_image_1</td>\n",
       "      <td>0.161943</td>\n",
       "      <td>0.85078</td>\n",
       "      <td>0.582996</td>\n",
       "      <td>1</td>\n",
       "      <td>494</td>\n",
       "      <td>449</td>\n",
       "    </tr>\n",
       "    <tr>\n",
       "      <th>2</th>\n",
       "      <td>car_image_2</td>\n",
       "      <td>0.082</td>\n",
       "      <td>0.697452</td>\n",
       "      <td>0.23</td>\n",
       "      <td>0.828025</td>\n",
       "      <td>500</td>\n",
       "      <td>314</td>\n",
       "    </tr>\n",
       "    <tr>\n",
       "      <th>3</th>\n",
       "      <td>car_image_3</td>\n",
       "      <td>0.434</td>\n",
       "      <td>0.667377</td>\n",
       "      <td>0.718</td>\n",
       "      <td>0.765458</td>\n",
       "      <td>500</td>\n",
       "      <td>469</td>\n",
       "    </tr>\n",
       "    <tr>\n",
       "      <th>4</th>\n",
       "      <td>car_image_4</td>\n",
       "      <td>0.208791</td>\n",
       "      <td>0.390764</td>\n",
       "      <td>0.865135</td>\n",
       "      <td>0.984014</td>\n",
       "      <td>1001</td>\n",
       "      <td>563</td>\n",
       "    </tr>\n",
       "  </tbody>\n",
       "</table>\n",
       "</div>"
      ],
      "text/plain": [
       "    source_img     top_x     top_y  bottom_x  bottom_y img_width img_height\n",
       "0  car_image_0  0.722084  0.587983  0.868486  0.688841       806        466\n",
       "1  car_image_1  0.161943   0.85078  0.582996         1       494        449\n",
       "2  car_image_2     0.082  0.697452      0.23  0.828025       500        314\n",
       "3  car_image_3     0.434  0.667377     0.718  0.765458       500        469\n",
       "4  car_image_4  0.208791  0.390764  0.865135  0.984014      1001        563"
      ]
     },
     "execution_count": 16,
     "metadata": {},
     "output_type": "execute_result"
    }
   ],
   "source": [
    "final_df.columns = ['source_img', 'top_x', 'top_y', 'bottom_x', 'bottom_y', 'img_width', 'img_height']\n",
    "final_df.head()"
   ]
  },
  {
   "cell_type": "code",
   "execution_count": 17,
   "metadata": {},
   "outputs": [
    {
     "data": {
      "text/plain": [
       "source_img    object\n",
       "top_x         object\n",
       "top_y         object\n",
       "bottom_x      object\n",
       "bottom_y      object\n",
       "img_width     object\n",
       "img_height    object\n",
       "dtype: object"
      ]
     },
     "execution_count": 17,
     "metadata": {},
     "output_type": "execute_result"
    }
   ],
   "source": [
    "final_df.dtypes"
   ]
  },
  {
   "cell_type": "code",
   "execution_count": 19,
   "metadata": {},
   "outputs": [],
   "source": [
    "final_df.to_csv('final_df.csv', index=False)"
   ]
  },
  {
   "cell_type": "code",
   "execution_count": 20,
   "metadata": {},
   "outputs": [],
   "source": [
    "final_df = pd.read_csv('final_df.csv')"
   ]
  },
  {
   "cell_type": "code",
   "execution_count": 21,
   "metadata": {},
   "outputs": [
    {
     "data": {
      "text/html": [
       "<div>\n",
       "<style scoped>\n",
       "    .dataframe tbody tr th:only-of-type {\n",
       "        vertical-align: middle;\n",
       "    }\n",
       "\n",
       "    .dataframe tbody tr th {\n",
       "        vertical-align: top;\n",
       "    }\n",
       "\n",
       "    .dataframe thead th {\n",
       "        text-align: right;\n",
       "    }\n",
       "</style>\n",
       "<table border=\"1\" class=\"dataframe\">\n",
       "  <thead>\n",
       "    <tr style=\"text-align: right;\">\n",
       "      <th></th>\n",
       "      <th>source_img</th>\n",
       "      <th>top_x</th>\n",
       "      <th>top_y</th>\n",
       "      <th>bottom_x</th>\n",
       "      <th>bottom_y</th>\n",
       "      <th>img_width</th>\n",
       "      <th>img_height</th>\n",
       "    </tr>\n",
       "  </thead>\n",
       "  <tbody>\n",
       "    <tr>\n",
       "      <th>0</th>\n",
       "      <td>car_image_0</td>\n",
       "      <td>0.722084</td>\n",
       "      <td>0.587983</td>\n",
       "      <td>0.868486</td>\n",
       "      <td>0.688841</td>\n",
       "      <td>806</td>\n",
       "      <td>466</td>\n",
       "    </tr>\n",
       "    <tr>\n",
       "      <th>1</th>\n",
       "      <td>car_image_1</td>\n",
       "      <td>0.161943</td>\n",
       "      <td>0.850780</td>\n",
       "      <td>0.582996</td>\n",
       "      <td>1.000000</td>\n",
       "      <td>494</td>\n",
       "      <td>449</td>\n",
       "    </tr>\n",
       "    <tr>\n",
       "      <th>2</th>\n",
       "      <td>car_image_2</td>\n",
       "      <td>0.082000</td>\n",
       "      <td>0.697452</td>\n",
       "      <td>0.230000</td>\n",
       "      <td>0.828025</td>\n",
       "      <td>500</td>\n",
       "      <td>314</td>\n",
       "    </tr>\n",
       "    <tr>\n",
       "      <th>3</th>\n",
       "      <td>car_image_3</td>\n",
       "      <td>0.434000</td>\n",
       "      <td>0.667377</td>\n",
       "      <td>0.718000</td>\n",
       "      <td>0.765458</td>\n",
       "      <td>500</td>\n",
       "      <td>469</td>\n",
       "    </tr>\n",
       "    <tr>\n",
       "      <th>4</th>\n",
       "      <td>car_image_4</td>\n",
       "      <td>0.208791</td>\n",
       "      <td>0.390764</td>\n",
       "      <td>0.865135</td>\n",
       "      <td>0.984014</td>\n",
       "      <td>1001</td>\n",
       "      <td>563</td>\n",
       "    </tr>\n",
       "  </tbody>\n",
       "</table>\n",
       "</div>"
      ],
      "text/plain": [
       "    source_img     top_x     top_y  bottom_x  bottom_y  img_width  img_height\n",
       "0  car_image_0  0.722084  0.587983  0.868486  0.688841        806         466\n",
       "1  car_image_1  0.161943  0.850780  0.582996  1.000000        494         449\n",
       "2  car_image_2  0.082000  0.697452  0.230000  0.828025        500         314\n",
       "3  car_image_3  0.434000  0.667377  0.718000  0.765458        500         469\n",
       "4  car_image_4  0.208791  0.390764  0.865135  0.984014       1001         563"
      ]
     },
     "execution_count": 21,
     "metadata": {},
     "output_type": "execute_result"
    }
   ],
   "source": [
    "final_df.head()"
   ]
  },
  {
   "cell_type": "code",
   "execution_count": 22,
   "metadata": {},
   "outputs": [
    {
     "data": {
      "text/plain": [
       "(237, 7)"
      ]
     },
     "execution_count": 22,
     "metadata": {},
     "output_type": "execute_result"
    }
   ],
   "source": [
    "final_df.shape"
   ]
  },
  {
   "cell_type": "code",
   "execution_count": null,
   "metadata": {},
   "outputs": [],
   "source": []
  }
 ],
 "metadata": {
  "kernelspec": {
   "display_name": "Python 3",
   "language": "python",
   "name": "python3"
  },
  "language_info": {
   "codemirror_mode": {
    "name": "ipython",
    "version": 3
   },
   "file_extension": ".py",
   "mimetype": "text/x-python",
   "name": "python",
   "nbconvert_exporter": "python",
   "pygments_lexer": "ipython3",
   "version": "3.7.4"
  }
 },
 "nbformat": 4,
 "nbformat_minor": 4
}
